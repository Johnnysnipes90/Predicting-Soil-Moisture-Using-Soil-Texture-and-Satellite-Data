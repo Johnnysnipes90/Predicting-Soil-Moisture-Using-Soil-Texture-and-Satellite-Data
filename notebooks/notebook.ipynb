{
 "cells": [
  {
   "cell_type": "code",
   "execution_count": null,
   "metadata": {},
   "outputs": [],
   "source": [
    "# Standard Libraries\n",
    "import pandas as pd\n",
    "import numpy as np\n",
    "import json\n",
    "from sklearn.linear_model import LogisticRegression\n",
    "from sklearn.model_selection import cross_val_score, KFold, train_test_split\n",
    "from sklearn import metrics\n",
    "import matplotlib.pyplot as plt\n",
    "import seaborn as sns\n",
    "from sklearn.metrics import f1_score\n",
    "\n",
    "from sklearn.pipeline import Pipeline\n",
    "from sklearn.preprocessing import RobustScaler, LabelEncoder\n",
    "\n",
    "import os\n",
    "os.chdir(\"C:/Users/USER/Desktop/GitHub/PREDICTING-SOIL-MOISTURE-USING-SOIL-TEXTURE-AND-SATELLITE-DATA\")"
   ]
  },
  {
   "cell_type": "markdown",
   "metadata": {},
   "source": [
    "# Load and Explore dataset"
   ]
  },
  {
   "cell_type": "markdown",
   "metadata": {},
   "source": [
    "## Load Dataset"
   ]
  },
  {
   "cell_type": "code",
   "execution_count": null,
   "metadata": {},
   "outputs": [
    {
     "data": {
      "text/html": [
       "<div>\n",
       "<style scoped>\n",
       "    .dataframe tbody tr th:only-of-type {\n",
       "        vertical-align: middle;\n",
       "    }\n",
       "\n",
       "    .dataframe tbody tr th {\n",
       "        vertical-align: top;\n",
       "    }\n",
       "\n",
       "    .dataframe thead th {\n",
       "        text-align: right;\n",
       "    }\n",
       "</style>\n",
       "<table border=\"1\" class=\"dataframe\">\n",
       "  <thead>\n",
       "    <tr style=\"text-align: right;\">\n",
       "      <th></th>\n",
       "      <th>time</th>\n",
       "      <th>latitude</th>\n",
       "      <th>longitude</th>\n",
       "      <th>clay_content</th>\n",
       "      <th>sand_content</th>\n",
       "      <th>silt_content</th>\n",
       "      <th>sm_aux</th>\n",
       "      <th>sm_tgt</th>\n",
       "    </tr>\n",
       "  </thead>\n",
       "  <tbody>\n",
       "    <tr>\n",
       "      <th>0</th>\n",
       "      <td>2013-01-03</td>\n",
       "      <td>54.875</td>\n",
       "      <td>9.125</td>\n",
       "      <td>5.0</td>\n",
       "      <td>86.0</td>\n",
       "      <td>9.0</td>\n",
       "      <td>0.454120</td>\n",
       "      <td>0.53</td>\n",
       "    </tr>\n",
       "    <tr>\n",
       "      <th>1</th>\n",
       "      <td>2013-01-05</td>\n",
       "      <td>54.875</td>\n",
       "      <td>9.125</td>\n",
       "      <td>5.0</td>\n",
       "      <td>86.0</td>\n",
       "      <td>9.0</td>\n",
       "      <td>0.437102</td>\n",
       "      <td>0.44</td>\n",
       "    </tr>\n",
       "    <tr>\n",
       "      <th>2</th>\n",
       "      <td>2013-01-07</td>\n",
       "      <td>54.875</td>\n",
       "      <td>9.125</td>\n",
       "      <td>5.0</td>\n",
       "      <td>86.0</td>\n",
       "      <td>9.0</td>\n",
       "      <td>0.412978</td>\n",
       "      <td>0.42</td>\n",
       "    </tr>\n",
       "    <tr>\n",
       "      <th>3</th>\n",
       "      <td>2013-01-08</td>\n",
       "      <td>54.875</td>\n",
       "      <td>9.125</td>\n",
       "      <td>5.0</td>\n",
       "      <td>86.0</td>\n",
       "      <td>9.0</td>\n",
       "      <td>0.378734</td>\n",
       "      <td>0.55</td>\n",
       "    </tr>\n",
       "    <tr>\n",
       "      <th>4</th>\n",
       "      <td>2013-01-09</td>\n",
       "      <td>54.875</td>\n",
       "      <td>9.125</td>\n",
       "      <td>5.0</td>\n",
       "      <td>86.0</td>\n",
       "      <td>9.0</td>\n",
       "      <td>0.350740</td>\n",
       "      <td>0.46</td>\n",
       "    </tr>\n",
       "  </tbody>\n",
       "</table>\n",
       "</div>"
      ],
      "text/plain": [
       "         time  latitude  longitude  clay_content  sand_content  silt_content  \\\n",
       "0  2013-01-03    54.875      9.125           5.0          86.0           9.0   \n",
       "1  2013-01-05    54.875      9.125           5.0          86.0           9.0   \n",
       "2  2013-01-07    54.875      9.125           5.0          86.0           9.0   \n",
       "3  2013-01-08    54.875      9.125           5.0          86.0           9.0   \n",
       "4  2013-01-09    54.875      9.125           5.0          86.0           9.0   \n",
       "\n",
       "     sm_aux  sm_tgt  \n",
       "0  0.454120    0.53  \n",
       "1  0.437102    0.44  \n",
       "2  0.412978    0.42  \n",
       "3  0.378734    0.55  \n",
       "4  0.350740    0.46  "
      ]
     },
     "execution_count": 2,
     "metadata": {},
     "output_type": "execute_result"
    }
   ],
   "source": [
    "DATA_PATH = os.getenv(\"DATA_PATH\", default=\"data/updated_data.csv\")\n",
    "\n",
    "df = pd.read_csv(DATA_PATH)\n",
    "df.head()"
   ]
  },
  {
   "cell_type": "code",
   "execution_count": null,
   "metadata": {},
   "outputs": [],
   "source": [
    "# Write the columns to a configuration file\n",
    "COLUMN_CONFIG = os.getenv(\"COLUMN_CONFIG\", default=\"config/columns.json\")\n",
    "with open(COLUMN_CONFIG, \"w\") as f:\n",
    "    # Convert the columns to json and write to the file\n",
    "    columns = {col: df[col].dtype.name for col in df.columns}\n",
    "    json.dump(columns, f)"
   ]
  },
  {
   "cell_type": "code",
   "execution_count": null,
   "metadata": {},
   "outputs": [
    {
     "name": "stdout",
     "output_type": "stream",
     "text": [
      "<class 'pandas.core.frame.DataFrame'>\n",
      "RangeIndex: 321584 entries, 0 to 321583\n",
      "Data columns (total 8 columns):\n",
      " #   Column        Non-Null Count   Dtype  \n",
      "---  ------        --------------   -----  \n",
      " 0   time          321584 non-null  object \n",
      " 1   latitude      321584 non-null  float64\n",
      " 2   longitude     321584 non-null  float64\n",
      " 3   clay_content  321584 non-null  float64\n",
      " 4   sand_content  321584 non-null  float64\n",
      " 5   silt_content  321584 non-null  float64\n",
      " 6   sm_aux        321584 non-null  float64\n",
      " 7   sm_tgt        321584 non-null  float64\n",
      "dtypes: float64(7), object(1)\n",
      "memory usage: 19.6+ MB\n"
     ]
    }
   ],
   "source": [
    "df.info()"
   ]
  },
  {
   "cell_type": "markdown",
   "metadata": {},
   "source": [
    "### Dataset Overview\n",
    "\n",
    "The dataset contains **321,584 rows** and **8 columns**. Below is a summary of the columns:\n",
    "\n",
    "1. **time**: Timestamps (non-null, object type) representing the date of observation.\n",
    "2. **latitude**: Latitude of the observation (non-null, float64 type).\n",
    "3. **longitude**: Longitude of the observation (non-null, float64 type).\n",
    "4. **clay_content**: Percentage of clay in the soil (non-null, float64 type).\n",
    "5. **sand_content**: Percentage of sand in the soil (non-null, float64 type).\n",
    "6. **silt_content**: Percentage of silt in the soil (non-null, float64 type).\n",
    "7. **sm_aux**: Auxiliary soil moisture measurement (non-null, float64 type).\n",
    "8. **sm_tgt**: Target soil moisture measurement (non-null, float64 type).\n",
    "\n",
    "- **No missing values**: All columns have non-null entries.\n",
    "\n",
    "This dataset is clean and ready for further exploration and preprocessing steps.\n"
   ]
  },
  {
   "cell_type": "code",
   "execution_count": null,
   "metadata": {},
   "outputs": [
    {
     "data": {
      "text/plain": [
       "(321584, 8)"
      ]
     },
     "execution_count": 7,
     "metadata": {},
     "output_type": "execute_result"
    }
   ],
   "source": [
    "df.shape"
   ]
  },
  {
   "cell_type": "markdown",
   "metadata": {},
   "source": [
    "## Summary Statistics of the Dataset"
   ]
  },
  {
   "cell_type": "code",
   "execution_count": null,
   "metadata": {},
   "outputs": [
    {
     "data": {
      "text/html": [
       "<div>\n",
       "<style scoped>\n",
       "    .dataframe tbody tr th:only-of-type {\n",
       "        vertical-align: middle;\n",
       "    }\n",
       "\n",
       "    .dataframe tbody tr th {\n",
       "        vertical-align: top;\n",
       "    }\n",
       "\n",
       "    .dataframe thead th {\n",
       "        text-align: right;\n",
       "    }\n",
       "</style>\n",
       "<table border=\"1\" class=\"dataframe\">\n",
       "  <thead>\n",
       "    <tr style=\"text-align: right;\">\n",
       "      <th></th>\n",
       "      <th>latitude</th>\n",
       "      <th>longitude</th>\n",
       "      <th>clay_content</th>\n",
       "      <th>sand_content</th>\n",
       "      <th>silt_content</th>\n",
       "      <th>sm_aux</th>\n",
       "      <th>sm_tgt</th>\n",
       "    </tr>\n",
       "  </thead>\n",
       "  <tbody>\n",
       "    <tr>\n",
       "      <th>count</th>\n",
       "      <td>321584.000000</td>\n",
       "      <td>321584.000000</td>\n",
       "      <td>321584.00000</td>\n",
       "      <td>321584.000000</td>\n",
       "      <td>321584.000000</td>\n",
       "      <td>321584.000000</td>\n",
       "      <td>321584.000000</td>\n",
       "    </tr>\n",
       "    <tr>\n",
       "      <th>mean</th>\n",
       "      <td>50.840357</td>\n",
       "      <td>9.622973</td>\n",
       "      <td>20.88792</td>\n",
       "      <td>39.242963</td>\n",
       "      <td>39.894503</td>\n",
       "      <td>0.194109</td>\n",
       "      <td>0.411891</td>\n",
       "    </tr>\n",
       "    <tr>\n",
       "      <th>std</th>\n",
       "      <td>1.646484</td>\n",
       "      <td>3.789899</td>\n",
       "      <td>7.92268</td>\n",
       "      <td>21.846045</td>\n",
       "      <td>15.229785</td>\n",
       "      <td>0.088552</td>\n",
       "      <td>0.110530</td>\n",
       "    </tr>\n",
       "    <tr>\n",
       "      <th>min</th>\n",
       "      <td>48.125000</td>\n",
       "      <td>2.125000</td>\n",
       "      <td>4.00000</td>\n",
       "      <td>6.000000</td>\n",
       "      <td>8.000000</td>\n",
       "      <td>-0.038657</td>\n",
       "      <td>0.010000</td>\n",
       "    </tr>\n",
       "    <tr>\n",
       "      <th>25%</th>\n",
       "      <td>49.375000</td>\n",
       "      <td>6.625000</td>\n",
       "      <td>13.00000</td>\n",
       "      <td>22.000000</td>\n",
       "      <td>25.000000</td>\n",
       "      <td>0.126050</td>\n",
       "      <td>0.350000</td>\n",
       "    </tr>\n",
       "    <tr>\n",
       "      <th>50%</th>\n",
       "      <td>50.875000</td>\n",
       "      <td>9.875000</td>\n",
       "      <td>22.00000</td>\n",
       "      <td>32.000000</td>\n",
       "      <td>44.000000</td>\n",
       "      <td>0.178973</td>\n",
       "      <td>0.420000</td>\n",
       "    </tr>\n",
       "    <tr>\n",
       "      <th>75%</th>\n",
       "      <td>52.125000</td>\n",
       "      <td>12.875000</td>\n",
       "      <td>27.00000</td>\n",
       "      <td>61.000000</td>\n",
       "      <td>51.000000</td>\n",
       "      <td>0.257252</td>\n",
       "      <td>0.490000</td>\n",
       "    </tr>\n",
       "    <tr>\n",
       "      <th>max</th>\n",
       "      <td>54.875000</td>\n",
       "      <td>15.875000</td>\n",
       "      <td>46.00000</td>\n",
       "      <td>86.000000</td>\n",
       "      <td>72.000000</td>\n",
       "      <td>0.802321</td>\n",
       "      <td>0.600000</td>\n",
       "    </tr>\n",
       "  </tbody>\n",
       "</table>\n",
       "</div>"
      ],
      "text/plain": [
       "            latitude      longitude  clay_content   sand_content  \\\n",
       "count  321584.000000  321584.000000  321584.00000  321584.000000   \n",
       "mean       50.840357       9.622973      20.88792      39.242963   \n",
       "std         1.646484       3.789899       7.92268      21.846045   \n",
       "min        48.125000       2.125000       4.00000       6.000000   \n",
       "25%        49.375000       6.625000      13.00000      22.000000   \n",
       "50%        50.875000       9.875000      22.00000      32.000000   \n",
       "75%        52.125000      12.875000      27.00000      61.000000   \n",
       "max        54.875000      15.875000      46.00000      86.000000   \n",
       "\n",
       "        silt_content         sm_aux         sm_tgt  \n",
       "count  321584.000000  321584.000000  321584.000000  \n",
       "mean       39.894503       0.194109       0.411891  \n",
       "std        15.229785       0.088552       0.110530  \n",
       "min         8.000000      -0.038657       0.010000  \n",
       "25%        25.000000       0.126050       0.350000  \n",
       "50%        44.000000       0.178973       0.420000  \n",
       "75%        51.000000       0.257252       0.490000  \n",
       "max        72.000000       0.802321       0.600000  "
      ]
     },
     "execution_count": 9,
     "metadata": {},
     "output_type": "execute_result"
    }
   ],
   "source": [
    "df.describe()"
   ]
  },
  {
   "cell_type": "markdown",
   "metadata": {},
   "source": [
    "### Dataset Summary Statistics\n",
    "\n",
    "- **Row count**: 321,584  \n",
    "- **Key observations**:  \n",
    "  - Soil texture components (`clay_content`, `sand_content`, `silt_content`) range widely with varying distributions.  \n",
    "  - Target soil moisture (`sm_tgt`) ranges from **0.01** to **0.6**, with a mean of **0.4119**.  \n",
    "  - Auxiliary soil moisture (`sm_aux`) shows variability, with values ranging from **-0.0387** to **0.8023**.  \n",
    "\n",
    "These statistics indicate diverse soil properties and moisture levels for analysis.\n"
   ]
  },
  {
   "cell_type": "code",
   "execution_count": null,
   "metadata": {},
   "outputs": [
    {
     "data": {
      "text/html": [
       "<div>\n",
       "<style scoped>\n",
       "    .dataframe tbody tr th:only-of-type {\n",
       "        vertical-align: middle;\n",
       "    }\n",
       "\n",
       "    .dataframe tbody tr th {\n",
       "        vertical-align: top;\n",
       "    }\n",
       "\n",
       "    .dataframe thead th {\n",
       "        text-align: right;\n",
       "    }\n",
       "</style>\n",
       "<table border=\"1\" class=\"dataframe\">\n",
       "  <thead>\n",
       "    <tr style=\"text-align: right;\">\n",
       "      <th></th>\n",
       "      <th>time</th>\n",
       "    </tr>\n",
       "  </thead>\n",
       "  <tbody>\n",
       "    <tr>\n",
       "      <th>count</th>\n",
       "      <td>321584</td>\n",
       "    </tr>\n",
       "    <tr>\n",
       "      <th>unique</th>\n",
       "      <td>363</td>\n",
       "    </tr>\n",
       "    <tr>\n",
       "      <th>top</th>\n",
       "      <td>2013-08-19</td>\n",
       "    </tr>\n",
       "    <tr>\n",
       "      <th>freq</th>\n",
       "      <td>1119</td>\n",
       "    </tr>\n",
       "  </tbody>\n",
       "</table>\n",
       "</div>"
      ],
      "text/plain": [
       "              time\n",
       "count       321584\n",
       "unique         363\n",
       "top     2013-08-19\n",
       "freq          1119"
      ]
     },
     "execution_count": 10,
     "metadata": {},
     "output_type": "execute_result"
    }
   ],
   "source": [
    "df.describe(include = 'object')"
   ]
  },
  {
   "cell_type": "markdown",
   "metadata": {},
   "source": [
    "# Data Cleaning and Preprocessing\n",
    "\n",
    "- Handle missing values, duplicates, and outliers.\n",
    "- Normalize or scale the features (clay_content, sand_content, etc.).\n",
    "- Convert time to datetime format and extract relevant features (e.g., year, month)."
   ]
  },
  {
   "cell_type": "markdown",
   "metadata": {},
   "source": [
    "## Missing Values"
   ]
  },
  {
   "cell_type": "code",
   "execution_count": null,
   "metadata": {},
   "outputs": [
    {
     "data": {
      "text/plain": [
       "time            0\n",
       "latitude        0\n",
       "longitude       0\n",
       "clay_content    0\n",
       "sand_content    0\n",
       "silt_content    0\n",
       "sm_aux          0\n",
       "sm_tgt          0\n",
       "dtype: int64"
      ]
     },
     "execution_count": 13,
     "metadata": {},
     "output_type": "execute_result"
    }
   ],
   "source": [
    "df.isna().sum()"
   ]
  },
  {
   "cell_type": "markdown",
   "metadata": {},
   "source": [
    "We can see that there are no missing values in the dataset"
   ]
  },
  {
   "cell_type": "markdown",
   "metadata": {},
   "source": [
    "## Duplicate Values"
   ]
  },
  {
   "cell_type": "code",
   "execution_count": null,
   "metadata": {},
   "outputs": [
    {
     "data": {
      "text/plain": [
       "0"
      ]
     },
     "execution_count": 14,
     "metadata": {},
     "output_type": "execute_result"
    }
   ],
   "source": [
    "df.duplicated().sum()"
   ]
  },
  {
   "cell_type": "markdown",
   "metadata": {},
   "source": [
    "There are no Duplicate values in the dataset."
   ]
  },
  {
   "cell_type": "markdown",
   "metadata": {},
   "source": [
    "## Outliers"
   ]
  },
  {
   "cell_type": "code",
   "execution_count": null,
   "metadata": {},
   "outputs": [
    {
     "name": "stdout",
     "output_type": "stream",
     "text": [
      "Number of outliers per column:\n",
      "latitude: 0\n",
      "longitude: 0\n",
      "clay_content: 0\n",
      "sand_content: 0\n",
      "silt_content: 0\n",
      "sm_aux: 1895\n",
      "sm_tgt: 6564\n"
     ]
    }
   ],
   "source": [
    "def detect_outliers(df, threshold=1.5):\n",
    "    \"\"\"\n",
    "    Detect outliers in a DataFrame using the IQR method.\n",
    "    \n",
    "    Parameters:\n",
    "        df (pd.DataFrame): The DataFrame containing the data.\n",
    "        threshold (float): The multiplier for the IQR to define outlier boundaries.\n",
    "        \n",
    "    Returns:\n",
    "        dict: A dictionary with column names as keys and counts of outliers as values.\n",
    "    \"\"\"\n",
    "    # Automatically select numeric columns\n",
    "    numeric_cols = df.select_dtypes(include=['number']).columns\n",
    "    \n",
    "    # Initialize a dictionary to store the count of outliers\n",
    "    outlier_counts = {}\n",
    "    \n",
    "    for col in numeric_cols:\n",
    "        # Calculate Q1 (25th percentile) and Q3 (75th percentile)\n",
    "        Q1 = df[col].quantile(0.25)\n",
    "        Q3 = df[col].quantile(0.75)\n",
    "        \n",
    "        # Calculate the Interquartile Range (IQR)\n",
    "        IQR = Q3 - Q1\n",
    "        \n",
    "        # Define lower and upper bounds for outliers\n",
    "        lower_bound = Q1 - threshold * IQR\n",
    "        upper_bound = Q3 + threshold * IQR\n",
    "        \n",
    "        # Count the number of outliers\n",
    "        outliers = df[(df[col] < lower_bound) | (df[col] > upper_bound)]\n",
    "        outlier_counts[col] = outliers.shape[0]\n",
    "    \n",
    "    return outlier_counts\n",
    "\n",
    "# Detect outliers and print counts\n",
    "outlier_counts = detect_outliers(df)\n",
    "print(\"Number of outliers per column:\")\n",
    "for col, count in outlier_counts.items():\n",
    "    print(f\"{col}: {count}\")"
   ]
  },
  {
   "cell_type": "code",
   "execution_count": null,
   "metadata": {},
   "outputs": [
    {
     "data": {
      "image/png": "[encoded data removed]",
      "text/plain": [
       "<Figure size 800x500 with 1 Axes>"
      ]
     },
     "metadata": {},
     "output_type": "display_data"
    }
   ],
   "source": [
    "# Automatically select numeric columns\n",
    "numeric_cols = df.select_dtypes(include=['number']).columns\n",
    "\n",
    "# Box plot for each numeric column\n",
    "df[numeric_cols].boxplot(figsize=(8, 5))\n",
    "plt.title(\"Box Plot to Visualize Outliers\")\n",
    "plt.xticks(rotation=45)\n",
    "plt.show()"
   ]
  },
  {
   "cell_type": "markdown",
   "metadata": {},
   "source": [
    "We can see alot of Outliers in the `sm_aux` and `sm_tgt` features."
   ]
  },
  {
   "cell_type": "code",
   "execution_count": null,
   "metadata": {},
   "outputs": [],
   "source": []
  },
  {
   "cell_type": "markdown",
   "metadata": {},
   "source": [
    "# Feature Engineering"
   ]
  },
  {
   "cell_type": "code",
   "execution_count": null,
   "metadata": {},
   "outputs": [],
   "source": []
  },
  {
   "cell_type": "code",
   "execution_count": null,
   "metadata": {},
   "outputs": [],
   "source": []
  },
  {
   "cell_type": "markdown",
   "metadata": {},
   "source": [
    "# Modeling\n",
    "- Define the target (sm_tgt) and features.\n",
    "- Split data into training, validation, and test sets.\n",
    "- Train multiple models (e.g., linear regression, random forest, XGBoost).\n",
    "- Save models to results/model.pkl."
   ]
  },
  {
   "cell_type": "code",
   "execution_count": null,
   "metadata": {},
   "outputs": [],
   "source": []
  },
  {
   "cell_type": "code",
   "execution_count": null,
   "metadata": {},
   "outputs": [],
   "source": []
  },
  {
   "cell_type": "code",
   "execution_count": null,
   "metadata": {},
   "outputs": [],
   "source": []
  },
  {
   "cell_type": "markdown",
   "metadata": {},
   "source": [
    "# Evaluation\n",
    "- Evaluate model performance using metrics like RMSE and R².\n",
    "- Save evaluation metrics to results/metrics.json.\n",
    "- Visualize predictions vs. actual values."
   ]
  },
  {
   "cell_type": "code",
   "execution_count": null,
   "metadata": {},
   "outputs": [],
   "source": []
  },
  {
   "cell_type": "code",
   "execution_count": null,
   "metadata": {},
   "outputs": [],
   "source": []
  }
 ],
 "metadata": {
  "kernelspec": {
   "display_name": "Python 3 (ipykernel)",
   "language": "python",
   "name": "python3"
  }
 },
 "nbformat": 4,
 "nbformat_minor": 2
}
