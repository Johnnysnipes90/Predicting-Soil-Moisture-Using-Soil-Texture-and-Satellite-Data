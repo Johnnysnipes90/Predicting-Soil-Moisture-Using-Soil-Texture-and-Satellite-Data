{
 "cells": [
  {
   "cell_type": "markdown",
   "id": "d04d48ba",
   "metadata": {},
   "source": [
    "# Python Basics"
   ]
  },
  {
   "cell_type": "code",
   "execution_count": null,
   "id": "bb99c984",
   "metadata": {},
   "outputs": [],
   "source": [
    "# Collecting User Input\n",
    "input()"
   ]
  },
  {
   "cell_type": "code",
   "execution_count": null,
   "id": "851295e6",
   "metadata": {},
   "outputs": [],
   "source": [
    "# Collecting User Name\n",
    "name = input('Enter your name')"
   ]
  },
  {
   "cell_type": "code",
   "execution_count": null,
   "id": "b5e53a27",
   "metadata": {},
   "outputs": [],
   "source": [
    "# Collecting User Input -  A step further\n",
    "name = str(input('Enter your name'))\n",
    "print(name)"
   ]
  },
  {
   "cell_type": "code",
   "execution_count": null,
   "id": "29553600",
   "metadata": {},
   "outputs": [],
   "source": [
    "# Displaying output\n",
    "print()"
   ]
  },
  {
   "cell_type": "code",
   "execution_count": null,
   "id": "729f0eca",
   "metadata": {},
   "outputs": [],
   "source": [
    "# Printing out \"Hello World!\"\n",
    "print(\"Hello World!\")"
   ]
  },
  {
   "cell_type": "code",
   "execution_count": null,
   "id": "305da988",
   "metadata": {},
   "outputs": [],
   "source": [
    "# Displaying variables and numbers\n",
    "text = \"Hello World!\"\n",
    "friends = ['Precious', 'Daniel', 'John']\n",
    "print(4)\n",
    "print(text)\n",
    "print(friends)"
   ]
  },
  {
   "cell_type": "code",
   "execution_count": null,
   "id": "b95c7530",
   "metadata": {},
   "outputs": [],
   "source": [
    "# Printing strings along side variables\n",
    "print(\"Hello, I am python, I am 31 yeards old\")\n",
    "print(\"Not to brag, but I, python, am the most popular programming language\")\n",
    "print(\"In 19 years, I'll be celebrating my golden jubilee, I'll be 50\")\n",
    "print(\"One again, I am python and I am 31 years old.\")"
   ]
  },
  {
   "cell_type": "code",
   "execution_count": null,
   "id": "ab7f496c",
   "metadata": {},
   "outputs": [],
   "source": [
    "# Concatenation and Printing\n",
    "name = \"python\"\n",
    "age = 31\n",
    "print(\"Hello, I am\",name,\"I am\",str(age),\"years old\")\n",
    "print(\"Not to brag, but I,\",name,\"am the most popular programming language\")\n",
    "print(\"In 19 years, I'll be celebrating my golden jubilee, I'll be\",str(age+19))\n",
    "print(\"One again, I am\",name,\"and I am\",str(age),\"years old.\")"
   ]
  },
  {
   "cell_type": "markdown",
   "id": "86d15e5d",
   "metadata": {},
   "source": [
    "# Python Basics 2"
   ]
  },
  {
   "cell_type": "code",
   "execution_count": null,
   "id": "73510f37",
   "metadata": {},
   "outputs": [],
   "source": [
    "# Creating Lists\n",
    "[\"James\", \"Tunde\", \"Gideon\"]"
   ]
  },
  {
   "cell_type": "code",
   "execution_count": null,
   "id": "29f7e83e",
   "metadata": {},
   "outputs": [],
   "source": [
    "# Lists with Multiple Data Types\n",
    "[\"James\", \"Tunde\", \"Gideon\", 9, 22, 16]"
   ]
  },
  {
   "cell_type": "code",
   "execution_count": null,
   "id": "d5c6f2e8",
   "metadata": {},
   "outputs": [],
   "source": [
    "# Lists and Variables\n",
    "friends = [\"James\", \"Tunde\", \"Gideon\"]"
   ]
  },
  {
   "cell_type": "code",
   "execution_count": null,
   "id": "a4d265c2",
   "metadata": {},
   "outputs": [],
   "source": [
    "# Lists Index\n",
    "friends = [\"James\", \"Tunde\", \"Gideon\"]\n",
    "print(friends[0])"
   ]
  },
  {
   "cell_type": "code",
   "execution_count": null,
   "id": "ac9d481f",
   "metadata": {},
   "outputs": [],
   "source": [
    "# Lists Slicing\n",
    "friends = [\"James\", \"Tunde\", \"Gideon\"]\n",
    "print(friends[0:2])"
   ]
  },
  {
   "cell_type": "code",
   "execution_count": null,
   "id": "fc099194",
   "metadata": {},
   "outputs": [],
   "source": [
    "# Lists Methods\n",
    "friends = [\"James\", \"Tunde\", \"Gideon\"]\n",
    "print(len(friends))"
   ]
  },
  {
   "cell_type": "code",
   "execution_count": null,
   "id": "a318de68",
   "metadata": {},
   "outputs": [],
   "source": [
    "# Mutating or Changing List items\n",
    "friends = [\"James\", \"Tunde\", \"Gideon\"]\n",
    "print(friends)\n",
    "friends[0] = \"John\"\n",
    "print(friends)"
   ]
  },
  {
   "cell_type": "code",
   "execution_count": null,
   "id": "94fa2fa2",
   "metadata": {},
   "outputs": [],
   "source": [
    "# List function - sort()\n",
    "prices = [23.5, 4, 2.5, 9.0]\n",
    "prices.sort()\n",
    "print(prices)"
   ]
  },
  {
   "cell_type": "code",
   "execution_count": null,
   "id": "54f602ef",
   "metadata": {},
   "outputs": [],
   "source": [
    "# List function - type()\n",
    "list1 = [2, 9.7, \"word\", True]\n",
    "print(type(list1))"
   ]
  },
  {
   "cell_type": "code",
   "execution_count": null,
   "id": "a81e9391",
   "metadata": {},
   "outputs": [],
   "source": [
    "# List function - append()\n",
    "weeks = [\"Monday\", \"Tuesday\", \"Wednesday\"]\n",
    "weeks.append(\"Thursday\")\n",
    "print(weeks)"
   ]
  },
  {
   "cell_type": "code",
   "execution_count": null,
   "id": "d16c450e",
   "metadata": {},
   "outputs": [],
   "source": [
    "# List function - extend()\n",
    "weeks = [\"Monday\", \"Tuesday\", \"Wednesday\"]\n",
    "weeks.extend([\"Thursday\",\"Friday\"])\n",
    "print(weeks)"
   ]
  },
  {
   "cell_type": "code",
   "execution_count": null,
   "id": "7dc30a12",
   "metadata": {},
   "outputs": [],
   "source": [
    "# List function - index()\n",
    "weeks = [\"Monday\", \"Tuesday\", \"Wednesday\"]\n",
    "print(weeks.index(\"Monday\"))"
   ]
  },
  {
   "cell_type": "code",
   "execution_count": null,
   "id": "576d13fb",
   "metadata": {},
   "outputs": [],
   "source": [
    "# List function - max()\n",
    "Ages = [3,5,7]\n",
    "print(max(Ages))"
   ]
  },
  {
   "cell_type": "code",
   "execution_count": null,
   "id": "4d99add2",
   "metadata": {},
   "outputs": [],
   "source": [
    "# List function - min()\n",
    "Ages = [3,5,7]\n",
    "print(min(Ages))"
   ]
  },
  {
   "cell_type": "code",
   "execution_count": null,
   "id": "3635e7bc",
   "metadata": {},
   "outputs": [],
   "source": [
    "# List function - len()\n",
    "weeks = [\"Monday\", \"Tuesday\", \"Wednesday\"]\n",
    "print(len(weeks))"
   ]
  },
  {
   "cell_type": "code",
   "execution_count": 11,
   "id": "421be941",
   "metadata": {},
   "outputs": [
    {
     "name": "stdout",
     "output_type": "stream",
     "text": [
      "['p', 'y', 't', 'h', 'o', 'n']\n"
     ]
    }
   ],
   "source": [
    "# List functions - list()\n",
    "string1 = \"python\"\n",
    "list1 = list(string1)\n",
    "print(list1)"
   ]
  },
  {
   "cell_type": "code",
   "execution_count": null,
   "id": "0b6d1a1e",
   "metadata": {},
   "outputs": [],
   "source": []
  },
  {
   "cell_type": "code",
   "execution_count": null,
   "id": "5f91448f",
   "metadata": {},
   "outputs": [],
   "source": [
    "# Creating Our First Tuple\n",
    "friends = (\"James\", \"Tunde\", \"Gideon\")\n",
    "print(friends)"
   ]
  },
  {
   "cell_type": "code",
   "execution_count": null,
   "id": "b11a1583",
   "metadata": {},
   "outputs": [],
   "source": []
  },
  {
   "cell_type": "code",
   "execution_count": null,
   "id": "3b3c18e4",
   "metadata": {},
   "outputs": [],
   "source": [
    "# Creating Sets\n",
    "thisset = {\"apple\", \"banana\", \"cherry\"}\n",
    "print(thisset)"
   ]
  },
  {
   "cell_type": "code",
   "execution_count": null,
   "id": "424877e8",
   "metadata": {},
   "outputs": [],
   "source": [
    "# Checking out if items are unique\n",
    "thisset = {\"apple\", \"banana\", \"cherry\", \"apple\"}"
   ]
  },
  {
   "cell_type": "code",
   "execution_count": null,
   "id": "4a53e92a",
   "metadata": {},
   "outputs": [],
   "source": [
    "# Length of a Set\n",
    "thisset = {\"apple\", \"banana\", \"cherry\", \"apple\"}\n",
    "print(len(thisset))"
   ]
  },
  {
   "cell_type": "code",
   "execution_count": null,
   "id": "a5fff2c8",
   "metadata": {},
   "outputs": [],
   "source": [
    "# Checking an item in a set\n",
    "thisset = {\"apple\", \"banana\", \"cherry\"}\n",
    "print(\"banana\" in thisset)"
   ]
  },
  {
   "cell_type": "code",
   "execution_count": null,
   "id": "7d4e0b62",
   "metadata": {},
   "outputs": [],
   "source": [
    "# Set operations - Union(|)\n",
    "A = {'red', 'green', 'blue'}\n",
    "B = {'yellow', 'red', 'orange'}\n",
    "print(A|B)\n",
    "print(A.union(B))"
   ]
  },
  {
   "cell_type": "code",
   "execution_count": null,
   "id": "514eecfa",
   "metadata": {},
   "outputs": [],
   "source": [
    "# Set operations - Intersection(&)\n",
    "A = {'red', 'green', 'blue'}\n",
    "B = {'yellow', 'red', 'orange'}\n",
    "print(A&B)\n",
    "print(A.intersection(B))"
   ]
  },
  {
   "cell_type": "code",
   "execution_count": 18,
   "id": "2a577784",
   "metadata": {},
   "outputs": [
    {
     "name": "stdout",
     "output_type": "stream",
     "text": [
      "{'orange', 'yellow'}\n",
      "{'green', 'blue'}\n"
     ]
    }
   ],
   "source": [
    "# Set operations - Difference(-)\n",
    "A = {'red', 'green', 'blue'}\n",
    "B = {'yellow', 'red', 'orange'}\n",
    "print(B-A)\n",
    "print(A.difference(B))"
   ]
  },
  {
   "cell_type": "code",
   "execution_count": 19,
   "id": "34f20649",
   "metadata": {},
   "outputs": [
    {
     "name": "stdout",
     "output_type": "stream",
     "text": [
      "{'yellow', 'blue', 'green', 'orange'}\n",
      "{'yellow', 'blue', 'green', 'orange'}\n"
     ]
    }
   ],
   "source": [
    "# Set operations - symmetric difference(^)\n",
    "A = {'red', 'green', 'blue'}\n",
    "B = {'yellow', 'red', 'orange'}\n",
    "print(A^B)\n",
    "print(A.symmetric_difference(B))"
   ]
  },
  {
   "cell_type": "markdown",
   "id": "7ca1ffde",
   "metadata": {},
   "source": [
    "# Python Basics 3"
   ]
  },
  {
   "cell_type": "code",
   "execution_count": null,
   "id": "5af774ab",
   "metadata": {},
   "outputs": [],
   "source": [
    "# Creating Dictionaries\n",
    "thisdict = {\n",
    "    \"brand\":\"Ford\",\n",
    "    \"model\":\"Mustang\",\n",
    "    \"year\":1964\n",
    "}\n",
    "print(thisdict)"
   ]
  },
  {
   "cell_type": "code",
   "execution_count": null,
   "id": "932ea0df",
   "metadata": {},
   "outputs": [],
   "source": [
    "# Creating Dictionaries 2\n",
    "keys = ['name', 'age', 'job']\n",
    "values = ['Bob', 25, 'Dev']\n",
    "D = dict(zip(keys, values))\n",
    "print(D)"
   ]
  },
  {
   "cell_type": "code",
   "execution_count": null,
   "id": "a7bce928",
   "metadata": {},
   "outputs": [],
   "source": [
    "# get() method\n",
    "print(D.get('name'))\n",
    "print(D.get('salary'))"
   ]
  },
  {
   "cell_type": "code",
   "execution_count": null,
   "id": "d3b4f119",
   "metadata": {},
   "outputs": [],
   "source": [
    "# Update Dictionary Items\n",
    "D = {'name':'Bob','age':25,'job':'Dev'}\n",
    "print(D)\n",
    "D['name'] = 'Sam'\n",
    "print(D)"
   ]
  },
  {
   "cell_type": "code",
   "execution_count": 39,
   "id": "3727c172",
   "metadata": {},
   "outputs": [
    {
     "name": "stdout",
     "output_type": "stream",
     "text": [
      "{'name': 'Bob', 'age': 25, 'job': 'Dev'}\n",
      "{'name': 'Bob', 'job': 'Dev'}\n"
     ]
    }
   ],
   "source": [
    "# Remove Dictionary Items\n",
    "D = {'name':'Bob','age':25,'job':'Dev'}\n",
    "print(D)\n",
    "D.pop('age')\n",
    "print(D)"
   ]
  },
  {
   "cell_type": "code",
   "execution_count": 41,
   "id": "0f0dbbee",
   "metadata": {},
   "outputs": [
    {
     "name": "stdout",
     "output_type": "stream",
     "text": [
      "{'name': 'Bob', 'age': 25, 'job': 'Dev'}\n",
      "{}\n"
     ]
    }
   ],
   "source": [
    "# Remove all Items\n",
    "D = {'name':'Bob','age':25,'job':'Dev'}\n",
    "print(D)\n",
    "D.clear()\n",
    "print(D)"
   ]
  },
  {
   "cell_type": "code",
   "execution_count": 42,
   "id": "139d67e0",
   "metadata": {},
   "outputs": [
    {
     "name": "stdout",
     "output_type": "stream",
     "text": [
      "{'name': 'Bob', 'age': 25, 'job': 'Dev'} \n",
      " {'age': 30, 'city': 'New York', 'email': 'bob@web.com'}\n",
      "{'name': 'Bob', 'age': 30, 'job': 'Dev', 'city': 'New York', 'email': 'bob@web.com'}\n"
     ]
    }
   ],
   "source": [
    "# Merge Two Dictionaries\n",
    "D1 = {'name':'Bob','age':25,'job':'Dev'}\n",
    "D2 = {'age': 30,'city':'New York','email':'bob@web.com'}\n",
    "print(D1,'\\n',D2)\n",
    "D1.update(D2)\n",
    "print(D1)"
   ]
  },
  {
   "cell_type": "code",
   "execution_count": null,
   "id": "6efcb269",
   "metadata": {},
   "outputs": [],
   "source": []
  },
  {
   "cell_type": "code",
   "execution_count": null,
   "id": "f20aa6b4",
   "metadata": {},
   "outputs": [],
   "source": [
    "# while loop\n",
    "x = 0\n",
    "while (x < 10):\n",
    "    x = x+1\n",
    "    print(x)"
   ]
  },
  {
   "cell_type": "code",
   "execution_count": null,
   "id": "121517f0",
   "metadata": {},
   "outputs": [],
   "source": [
    "# for loop\n",
    "for x in range(1,11):\n",
    "    print(x)"
   ]
  },
  {
   "cell_type": "code",
   "execution_count": null,
   "id": "6dd66cdd",
   "metadata": {},
   "outputs": [],
   "source": [
    "# break statement\n",
    "for x in range(1,11):\n",
    "    if x == 4:\n",
    "        break\n",
    "    print(x)"
   ]
  },
  {
   "cell_type": "code",
   "execution_count": null,
   "id": "8e7f3888",
   "metadata": {},
   "outputs": [],
   "source": [
    "# break statement\n",
    "for x in range(1,11):\n",
    "    if x == 4:\n",
    "        continue\n",
    "    print(x)"
   ]
  },
  {
   "cell_type": "code",
   "execution_count": null,
   "id": "9628122f",
   "metadata": {},
   "outputs": [],
   "source": []
  },
  {
   "cell_type": "code",
   "execution_count": null,
   "id": "4e478366",
   "metadata": {},
   "outputs": [],
   "source": [
    "years_of_experience = [3,5,2,1,3,1,4]\n",
    "for year in years_of_experience:\n",
    "    if year == 1:\n",
    "        continue\n",
    "    print(year)"
   ]
  }
 ],
 "metadata": {
  "kernelspec": {
   "display_name": "Python 3 (ipykernel)",
   "language": "python",
   "name": "python3"
  },
  "language_info": {
   "codemirror_mode": {
    "name": "ipython",
    "version": 3
   },
   "file_extension": ".py",
   "mimetype": "text/x-python",
   "name": "python",
   "nbconvert_exporter": "python",
   "pygments_lexer": "ipython3",
   "version": "3.11.2"
  }
 },
 "nbformat": 4,
 "nbformat_minor": 5
}
