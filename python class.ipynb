{
 "cells": [
  {
   "cell_type": "code",
   "execution_count": 1,
   "id": "66132afa",
   "metadata": {},
   "outputs": [
    {
     "name": "stdout",
     "output_type": "stream",
     "text": [
      "Hello John\n"
     ]
    }
   ],
   "source": [
    "print(\"Hello John\")"
   ]
  },
  {
   "cell_type": "code",
   "execution_count": 2,
   "id": "20924e45",
   "metadata": {},
   "outputs": [
    {
     "name": "stdout",
     "output_type": "stream",
     "text": [
      "12\n"
     ]
    }
   ],
   "source": [
    "print(9+3)"
   ]
  },
  {
   "cell_type": "code",
   "execution_count": 3,
   "id": "41b6cd6a",
   "metadata": {},
   "outputs": [
    {
     "name": "stdout",
     "output_type": "stream",
     "text": [
      "Enter youur name :John\n"
     ]
    },
    {
     "data": {
      "text/plain": [
       "'John'"
      ]
     },
     "execution_count": 3,
     "metadata": {},
     "output_type": "execute_result"
    }
   ],
   "source": [
    "input('Enter youur name :')"
   ]
  },
  {
   "cell_type": "code",
   "execution_count": 7,
   "id": "fdf41e5f",
   "metadata": {},
   "outputs": [
    {
     "name": "stdout",
     "output_type": "stream",
     "text": [
      "John\n",
      "30\n"
     ]
    }
   ],
   "source": [
    "name=\"John\"\n",
    "age=30\n",
    "print(name)\n",
    "print(age)"
   ]
  },
  {
   "cell_type": "code",
   "execution_count": 8,
   "id": "fc6bf8d9",
   "metadata": {},
   "outputs": [
    {
     "name": "stdout",
     "output_type": "stream",
     "text": [
      "Hello, I am python, I am 31 years old\n"
     ]
    }
   ],
   "source": [
    "name = \"python\"\n",
    "age = 31\n",
    "print(\"Hello, I am \"+ name +\", I am \"+ str(age) +\" years old\")\n",
    "print(\"Not to brag, \")"
   ]
  },
  {
   "cell_type": "code",
   "execution_count": 14,
   "id": "f480ef69",
   "metadata": {},
   "outputs": [
    {
     "name": "stdout",
     "output_type": "stream",
     "text": [
      "my school is located in igodan,okitipupa,ondo state\n"
     ]
    }
   ],
   "source": [
    "place = \"igodan,okitipupa,ondo state\"\n",
    "print(\"my school is located in \" + place)"
   ]
  },
  {
   "cell_type": "code",
   "execution_count": null,
   "id": "cc4f8875",
   "metadata": {},
   "outputs": [],
   "source": [
    "name = input(\"michael\")\n",
    "age = input(\"27\")\n",
    "school = input(\"oaustech\")\n",
    "gender = input(\"female\")\n",
    "    "
   ]
  },
  {
   "cell_type": "code",
   "execution_count": null,
   "id": "5fdda36d",
   "metadata": {},
   "outputs": [],
   "source": []
  }
 ],
 "metadata": {
  "kernelspec": {
   "display_name": "Python 3 (ipykernel)",
   "language": "python",
   "name": "python3"
  },
  "language_info": {
   "codemirror_mode": {
    "name": "ipython",
    "version": 3
   },
   "file_extension": ".py",
   "mimetype": "text/x-python",
   "name": "python",
   "nbconvert_exporter": "python",
   "pygments_lexer": "ipython3",
   "version": "3.10.9"
  }
 },
 "nbformat": 4,
 "nbformat_minor": 5
}
